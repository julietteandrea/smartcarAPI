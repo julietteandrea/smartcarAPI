{
 "cells": [
  {
   "cell_type": "markdown",
   "metadata": {},
   "source": [
    "Smartcar Backend Coding Challenge\n",
    "\n",
    "Your tasks are as follows:\n",
    "\n",
    "    Implement the Smartcar API specification using any frameworks or libraries as necessary\n",
    "    Provide tests for your API implementation\n",
    "    Write your code to be well structured and documented\n"
   ]
  },
  {
   "cell_type": "markdown",
   "metadata": {},
   "source": [
    "I implemented this using Flask,python3 and the requests library. \n",
    "The code is available in the private github that I shared over email.\n",
    "I also deployed the code to the url listed"
   ]
  },
  {
   "cell_type": "code",
   "execution_count": 115,
   "metadata": {},
   "outputs": [],
   "source": [
    "import requests\n",
    "URL = \"http://34.217.63.236:80/\"\n",
    "#URL = \"http://127.0.0.1:5000/\"\n",
    "def show_get_method(more_url):\n",
    "    response = requests.get(\"{}{}\".format(URL,more_url))\n",
    "    print(response.json())\n",
    "    \n",
    "def show_post_method(more_url,json):\n",
    "    response = requests.post(\"{}{}\".format(URL,more_url),json=json)\n",
    "    print(response.json())\n",
    "                             "
   ]
  },
  {
   "cell_type": "markdown",
   "metadata": {},
   "source": [
    "*The Smartcar API Spec Tests*"
   ]
  },
  {
   "cell_type": "markdown",
   "metadata": {},
   "source": [
    "Vehicle Info\n",
    "\n",
    "Request:\n",
    "\n",
    "GET /vehicles/:id\n",
    "\n",
    "Response:\n",
    "\n",
    "{\n",
    "  \"vin\": \"1213231\",\n",
    "  \"color\": \"Metallic Silver\",\n",
    "  \"doorCount\": 4,\n",
    "  \"driveTrain\": \"v8\"\n",
    "}\n"
   ]
  },
  {
   "cell_type": "code",
   "execution_count": 18,
   "metadata": {},
   "outputs": [
    {
     "name": "stdout",
     "output_type": "stream",
     "text": [
      "1234\n",
      "{'vin': '123123412412', 'color': 'Metallic Silver', 'doorCount': 4, 'driveTrain': 'v8'}\n",
      "1235\n",
      "{'vin': '1235AZ91XP', 'color': 'Forest Green', 'doorCount': 2, 'driveTrain': 'electric'}\n"
     ]
    }
   ],
   "source": [
    "print(\"1234\")\n",
    "show_get_method(\"vehicles/1234\")\n",
    "print(\"1235\")\n",
    "show_get_method(\"vehicles/1235\")"
   ]
  },
  {
   "cell_type": "markdown",
   "metadata": {},
   "source": [
    "Security\n",
    "\n",
    "\n",
    "Request:\n",
    "\n",
    "GET /vehicles/:id/doors\n",
    "\n",
    "Response:\n",
    "\n",
    "[\n",
    "  {\n",
    "    \"location\": \"frontLeft\",\n",
    "    \"locked\": true\n",
    "  },\n",
    "  {\n",
    "    \"location\": \"frontRight\",\n",
    "    \"locked\": true\n",
    "  }\n",
    "]\n"
   ]
  },
  {
   "cell_type": "code",
   "execution_count": 62,
   "metadata": {},
   "outputs": [
    {
     "name": "stdout",
     "output_type": "stream",
     "text": [
      "1234\n",
      "[{'location': 'frontLeft', 'locked': True}, {'location': 'backLeft', 'locked': True}, {'location': 'frontRight', 'locked': True}, {'location': 'backRight', 'locked': True}]\n",
      "1235\n",
      "[{'location': 'frontRight', 'locked': True}, {'location': 'frontLeft', 'locked': True}]\n"
     ]
    }
   ],
   "source": [
    "print(\"1234\")\n",
    "show_get_method(\"vehicles/1234/doors\")\n",
    "print(\"1235\")\n",
    "show_get_method(\"vehicles/1235/doors\")"
   ]
  },
  {
   "cell_type": "markdown",
   "metadata": {},
   "source": [
    "Fuel Range\n",
    "\n",
    "Request:\n",
    "\n",
    "GET /vehicles/:id/fuel\n",
    "\n",
    "Response:\n",
    "\n",
    "{\n",
    "  \"percent\": 30\n",
    "}\n"
   ]
  },
  {
   "cell_type": "code",
   "execution_count": 66,
   "metadata": {},
   "outputs": [
    {
     "name": "stdout",
     "output_type": "stream",
     "text": [
      "1234\n",
      "{'percent': '62.11'}\n",
      "1235\n",
      "{'percent': 'null'}\n"
     ]
    }
   ],
   "source": [
    "#I noticed that the fuel is a random number from 0 to 100\n",
    "print(\"1234\")\n",
    "show_get_method(\"vehicles/1234/fuel\")\n",
    "print(\"1235\")\n",
    "show_get_method(\"vehicles/1235/fuel\")"
   ]
  },
  {
   "cell_type": "markdown",
   "metadata": {},
   "source": [
    "Battery Range\n",
    "\n",
    "Request:\n",
    "\n",
    "GET /vehicles/:id/battery\n",
    "\n",
    "Response:\n",
    "\n",
    "{\n",
    "  \"percent\": 50\n",
    "}\n"
   ]
  },
  {
   "cell_type": "code",
   "execution_count": 69,
   "metadata": {},
   "outputs": [
    {
     "name": "stdout",
     "output_type": "stream",
     "text": [
      "1234\n",
      "{'percent': 'null'}\n",
      "1235\n",
      "{'percent': '17.85'}\n"
     ]
    }
   ],
   "source": [
    "#Battery is also a random number from 0 to 100\n",
    "print(\"1234\")\n",
    "show_get_method(\"vehicles/1234/battery\")\n",
    "print(\"1235\")\n",
    "show_get_method(\"vehicles/1235/battery\")"
   ]
  },
  {
   "cell_type": "markdown",
   "metadata": {},
   "source": [
    "Start/Stop Engine\n",
    "\n",
    "Request:\n",
    "\n",
    "POST /vehicles/:id/engine\n",
    "Content-Type: application/json\n",
    "\n",
    "{\n",
    "  \"action\": \"START|STOP\"\n",
    "}\n",
    "\n",
    "Response:\n",
    "\n",
    "{\n",
    "  \"status\": \"success|error\"\n"
   ]
  },
  {
   "cell_type": "code",
   "execution_count": 134,
   "metadata": {},
   "outputs": [
    {
     "name": "stdout",
     "output_type": "stream",
     "text": [
      "1234\n",
      "{'status': 'error'}\n",
      "{'status': 'error'}\n",
      "1235\n",
      "{'status': 'success'}\n",
      "{'status': 'success'}\n"
     ]
    }
   ],
   "source": [
    "#Results for command \"START\" and \"STOP\" are random\n",
    "print(\"1234\")\n",
    "show_post_method(\"vehicles/1234/engine\", json={\"action\":\"START\"})\n",
    "show_post_method(\"vehicles/1234/engine\", json={\"action\":\"STOP\"})\n",
    "print(\"1235\")\n",
    "show_post_method(\"vehicles/1235/engine\",json={\"action\":\"STOP\"})\n",
    "show_post_method(\"vehicles/1235/engine\", json={\"action\":\"START\"})"
   ]
  }
 ],
 "metadata": {
  "kernelspec": {
   "display_name": "Python 3",
   "language": "python",
   "name": "python3"
  },
  "language_info": {
   "codemirror_mode": {
    "name": "ipython",
    "version": 3
   },
   "file_extension": ".py",
   "mimetype": "text/x-python",
   "name": "python",
   "nbconvert_exporter": "python",
   "pygments_lexer": "ipython3",
   "version": "3.6.5"
  }
 },
 "nbformat": 4,
 "nbformat_minor": 2
}
